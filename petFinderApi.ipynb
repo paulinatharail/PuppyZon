{
 "cells": [
  {
   "cell_type": "code",
   "execution_count": 1,
   "metadata": {},
   "outputs": [],
   "source": [
    "import requests\n",
    "from requests.auth import HTTPDigestAuth\n",
    "import json\n",
    "import time\n",
    "import pandas as pd\n",
    "import time\n",
    "from config import pet_finder_api_key, pet_finder_secret_key\n",
    "petfinder_base_url = \"https://api.petfinder.com/v2/\""
   ]
  },
  {
   "cell_type": "code",
   "execution_count": 2,
   "metadata": {},
   "outputs": [],
   "source": [
    "def getAccessToken():\n",
    "    url = f'{petfinder_base_url}oauth2/token'\n",
    "    #print(url)\n",
    "    #format post request body data\n",
    "    #https://www.geeksforgeeks.org/get-post-requests-using-python/\n",
    "    # data to be sent to api; data is the POST body\n",
    "    data = {'grant_type':\"client_credentials\", \n",
    "            'client_id':pet_finder_api_key, \n",
    "            'client_secret':pet_finder_secret_key\n",
    "           }\n",
    "    #print(data)\n",
    "    #how to add headers in python POSTS\n",
    "    #https://stackoverflow.com/questions/8685790/adding-header-to-python-requests-module\n",
    "    headers = {'Content-Type': 'application/x-www-form-urlencoded'}\n",
    "    response = requests.post(url, data = data, headers=headers)\n",
    "    #print(response)\n",
    "    if(response.ok):\n",
    "        jData = json.loads(response.content)\n",
    "        #print(jData)\n",
    "        return jData[\"access_token\"]\n",
    "    else:\n",
    "        # If response code is not ok (200)\n",
    "        return None\n"
   ]
  },
  {
   "cell_type": "code",
   "execution_count": 3,
   "metadata": {},
   "outputs": [],
   "source": [
    "token = getAccessToken()"
   ]
  },
  {
   "cell_type": "code",
   "execution_count": 6,
   "metadata": {},
   "outputs": [],
   "source": [
    "def fetchPet(animal_type,breed,zipcode):\n",
    "    url = f'{petfinder_base_url}animals?type={animal_type}&breed={breed}&location={zipcode}&page=1'\n",
    "    print(url)\n",
    "    #format for calls to animal api\n",
    "    #https://api.petfinder.com/v2/animals?type=dog&page=2\n",
    "    #headers: Authorization: Bearer eyJ0eXA...\n",
    "    headers = {'Authorization': f'Bearer {token}'}\n",
    "    response = requests.get(url, headers=headers )\n",
    "    if(response.ok):\n",
    "        jData = json.loads(response.content)\n",
    "        filteredData = [{\n",
    "            \"id\": jData\n",
    "        }]\n",
    "        print(jData)\n",
    "        return jData\n",
    "    else:\n",
    "        print(\"Not found\")\n",
    "        return None"
   ]
  },
  {
   "cell_type": "code",
   "execution_count": 7,
   "metadata": {},
   "outputs": [
    {
     "name": "stdout",
     "output_type": "stream",
     "text": [
      "https://api.petfinder.com/v2/animals?type=dog&breed=chihuahua&location=92260&page=1\n",
      "Not found\n"
     ]
    }
   ],
   "source": [
    "fetchPet(animal_type=\"dog\",breed=\"chihuahua\",zipcode=\"92260\")"
   ]
  },
  {
   "cell_type": "code",
   "execution_count": null,
   "metadata": {},
   "outputs": [],
   "source": []
  }
 ],
 "metadata": {
  "kernelspec": {
   "display_name": "Python 3",
   "language": "python",
   "name": "python3"
  },
  "language_info": {
   "codemirror_mode": {
    "name": "ipython",
    "version": 3
   },
   "file_extension": ".py",
   "mimetype": "text/x-python",
   "name": "python",
   "nbconvert_exporter": "python",
   "pygments_lexer": "ipython3",
   "version": "3.6.5"
  }
 },
 "nbformat": 4,
 "nbformat_minor": 2
}
